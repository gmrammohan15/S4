{
  "nbformat": 4,
  "nbformat_minor": 0,
  "metadata": {
    "colab": {
      "name": "Copy of EVA4 - Session 2.ipynb",
      "provenance": [],
      "collapsed_sections": [],
      "include_colab_link": true
    },
    "kernelspec": {
      "name": "python3",
      "display_name": "Python 3"
    },
    "accelerator": "GPU"
  },
  "cells": [
    {
      "cell_type": "markdown",
      "metadata": {
        "id": "view-in-github",
        "colab_type": "text"
      },
      "source": [
        "<a href=\"https://colab.research.google.com/github/gmrammohan15/S4/blob/master/Copy_of_EVA4_Session_2.ipynb\" target=\"_parent\"><img src=\"https://colab.research.google.com/assets/colab-badge.svg\" alt=\"Open In Colab\"/></a>"
      ]
    },
    {
      "cell_type": "code",
      "metadata": {
        "id": "0m2JWFliFfKT",
        "colab_type": "code",
        "colab": {}
      },
      "source": [
        "from __future__ import print_function\n",
        "import torch\n",
        "import torch.nn as nn\n",
        "import torch.nn.functional as F\n",
        "import torch.optim as optim\n",
        "from torchvision import datasets, transforms"
      ],
      "execution_count": 0,
      "outputs": []
    },
    {
      "cell_type": "code",
      "metadata": {
        "id": "h_Cx9q2QFgM7",
        "colab_type": "code",
        "colab": {}
      },
      "source": [
        "class Net(nn.Module):\n",
        "    def __init__(self):\n",
        "        super(Net, self).__init__()\n",
        "        # input = 1 , output = 16, kernel size = 3*3\n",
        "        self.conv1 = nn.Conv2d(1, 16, 3, padding=1) # output size remains same \n",
        "        self.conv2 = nn.Conv2d(16, 32, 3, padding=1) # output size remains same\n",
        "        self.pool2D = nn.MaxPool2d(2, 2)  # max pooling kernel =2 , stride =2 \n",
        "\n",
        "        #1x1 kernel to reduce channel size\n",
        "        self.conv3 = nn.Conv2d(32, 16, 1)\n",
        "        self.conv4 = nn.Conv2d(16, 32, 3, padding=1)\n",
        "  \n",
        "        self.conv5 = nn.Conv2d(32, 16, 1)\n",
        "        self.conv6 = nn.Conv2d(16, 32, 3)\n",
        "        self.conv7 = nn.Conv2d(32, 10, 3)\n",
        "        self.relu =  nn.ReLU()\n",
        "        self.BatchNorm16 = nn.BatchNorm2d(16)\n",
        "        self.BatchNorm32 = nn.BatchNorm2d(32)\n",
        "        self.dropOut = nn.Dropout2d(0.2)\n",
        "        self.avgpool2 = nn.AvgPool2d(kernel_size=2)\n",
        "\n",
        "    def forward(self, x):\n",
        "        x = self.conv1(x)\n",
        "        x = self.relu(x)      \n",
        "        x = self.BatchNorm16(x)\n",
        "        x = self.conv2(x)\n",
        "        #x = self.dropOut(x)\n",
        "        x = self.relu(x)      \n",
        "        x = self.BatchNorm32(x)\n",
        "        x = self.pool2D(x)\n",
        "\n",
        "\n",
        "        x = self.conv3(x)\n",
        "        x = self.dropOut(x)\n",
        "\n",
        "\n",
        "        x = self.conv4(x)\n",
        "        x = self.relu(x)\n",
        "        x = self.BatchNorm32(x)\n",
        "        \n",
        "        x = self.pool2D(x)\n",
        "\n",
        "        x = self.conv5(x)\n",
        "        #x = self.dropOut(x)\n",
        "   \n",
        "        x = self.conv6(x)\n",
        "        x = self.relu(x)      \n",
        "        x = self.BatchNorm32(x)\n",
        "        x = self.conv7(x)\n",
        "\n",
        "        x = self.avgpool2(x)\n",
        "\n",
        "        x = x.view(-1, 10)\n",
        "        return F.log_softmax(x)"
      ],
      "execution_count": 0,
      "outputs": []
    },
    {
      "cell_type": "code",
      "metadata": {
        "colab_type": "code",
        "id": "xdydjYTZFyi3",
        "outputId": "c1ddd44f-1cea-4178-a7e1-23b62fe9a2c2",
        "colab": {
          "base_uri": "https://localhost:8080/",
          "height": 615
        }
      },
      "source": [
        "!pip install torchsummary\n",
        "from torchsummary import summary\n",
        "use_cuda = torch.cuda.is_available()\n",
        "device = torch.device(\"cuda\" if use_cuda else \"cpu\")\n",
        "model = Net().to(device)\n",
        "summary(model, input_size=(1, 28, 28))"
      ],
      "execution_count": 3,
      "outputs": [
        {
          "output_type": "stream",
          "text": [
            "Requirement already satisfied: torchsummary in /usr/local/lib/python3.6/dist-packages (1.5.1)\n",
            "----------------------------------------------------------------\n",
            "        Layer (type)               Output Shape         Param #\n",
            "================================================================\n",
            "            Conv2d-1           [-1, 16, 28, 28]             160\n",
            "              ReLU-2           [-1, 16, 28, 28]               0\n",
            "       BatchNorm2d-3           [-1, 16, 28, 28]              32\n",
            "            Conv2d-4           [-1, 32, 28, 28]           4,640\n",
            "              ReLU-5           [-1, 32, 28, 28]               0\n",
            "       BatchNorm2d-6           [-1, 32, 28, 28]              64\n",
            "         MaxPool2d-7           [-1, 32, 14, 14]               0\n",
            "            Conv2d-8           [-1, 16, 14, 14]             528\n",
            "         Dropout2d-9           [-1, 16, 14, 14]               0\n",
            "           Conv2d-10           [-1, 32, 14, 14]           4,640\n",
            "             ReLU-11           [-1, 32, 14, 14]               0\n",
            "      BatchNorm2d-12           [-1, 32, 14, 14]              64\n",
            "        MaxPool2d-13             [-1, 32, 7, 7]               0\n",
            "           Conv2d-14             [-1, 16, 7, 7]             528\n",
            "           Conv2d-15             [-1, 32, 5, 5]           4,640\n",
            "             ReLU-16             [-1, 32, 5, 5]               0\n",
            "      BatchNorm2d-17             [-1, 32, 5, 5]              64\n",
            "           Conv2d-18             [-1, 10, 3, 3]           2,890\n",
            "        AvgPool2d-19             [-1, 10, 1, 1]               0\n",
            "================================================================\n",
            "Total params: 18,250\n",
            "Trainable params: 18,250\n",
            "Non-trainable params: 0\n",
            "----------------------------------------------------------------\n",
            "Input size (MB): 0.00\n",
            "Forward/backward pass size (MB): 1.14\n",
            "Params size (MB): 0.07\n",
            "Estimated Total Size (MB): 1.21\n",
            "----------------------------------------------------------------\n"
          ],
          "name": "stdout"
        },
        {
          "output_type": "stream",
          "text": [
            "/usr/local/lib/python3.6/dist-packages/ipykernel_launcher.py:66: UserWarning: Implicit dimension choice for log_softmax has been deprecated. Change the call to include dim=X as an argument.\n"
          ],
          "name": "stderr"
        }
      ]
    },
    {
      "cell_type": "code",
      "metadata": {
        "id": "DqTWLaM5GHgH",
        "colab_type": "code",
        "colab": {}
      },
      "source": [
        "\n",
        "\n",
        "torch.manual_seed(1)\n",
        "#Changed the batch size\n",
        "batch_size = 64\n",
        "\n",
        "kwargs = {'num_workers': 1, 'pin_memory': True} if use_cuda else {}\n",
        "train_loader = torch.utils.data.DataLoader(\n",
        "    datasets.MNIST('../data', train=True, download=True,\n",
        "                    transform=transforms.Compose([\n",
        "                        transforms.ToTensor(),\n",
        "                        transforms.Normalize((0.1307,), (0.3081,))\n",
        "                    ])),\n",
        "    batch_size=batch_size, shuffle=True, **kwargs)\n",
        "test_loader = torch.utils.data.DataLoader(\n",
        "    datasets.MNIST('../data', train=False, transform=transforms.Compose([\n",
        "                        transforms.ToTensor(),\n",
        "                        transforms.Normalize((0.1307,), (0.3081,))\n",
        "                    ])),\n",
        "    batch_size=batch_size, shuffle=True, **kwargs)\n"
      ],
      "execution_count": 0,
      "outputs": []
    },
    {
      "cell_type": "code",
      "metadata": {
        "id": "8fDefDhaFlwH",
        "colab_type": "code",
        "colab": {}
      },
      "source": [
        "from tqdm import tqdm\n",
        "def train(model, device, train_loader, optimizer, epoch):\n",
        "    model.train()\n",
        "    pbar = tqdm(train_loader)\n",
        "    for batch_idx, (data, target) in enumerate(pbar):\n",
        "        data, target = data.to(device), target.to(device)\n",
        "        optimizer.zero_grad()\n",
        "        output = model(data)\n",
        "        loss = F.nll_loss(output, target)\n",
        "        loss.backward()\n",
        "        optimizer.step()\n",
        "        pbar.set_description(desc= f'loss={loss.item()} batch_id={batch_idx}')\n",
        "\n",
        "\n",
        "def test(model, device, test_loader):\n",
        "    model.eval()\n",
        "    test_loss = 0\n",
        "    correct = 0\n",
        "    with torch.no_grad():\n",
        "        for data, target in test_loader:\n",
        "            data, target = data.to(device), target.to(device)\n",
        "            output = model(data)\n",
        "            test_loss += F.nll_loss(output, target, reduction='sum').item()  # sum up batch loss\n",
        "            pred = output.argmax(dim=1, keepdim=True)  # get the index of the max log-probability\n",
        "            correct += pred.eq(target.view_as(pred)).sum().item()\n",
        "\n",
        "    test_loss /= len(test_loader.dataset)\n",
        "\n",
        "    print('\\nTest set: Average loss: {:.4f}, Accuracy: {}/{} ({:.0f}%)\\n'.format(\n",
        "        test_loss, correct, len(test_loader.dataset),\n",
        "        100. * correct / len(test_loader.dataset)))"
      ],
      "execution_count": 0,
      "outputs": []
    },
    {
      "cell_type": "code",
      "metadata": {
        "id": "MMWbLWO6FuHb",
        "colab_type": "code",
        "outputId": "347a78f7-4c83-4eec-cff8-73a34c46e7bc",
        "colab": {
          "base_uri": "https://localhost:8080/",
          "height": 1000
        }
      },
      "source": [
        "\n",
        "model = Net().to(device)\n",
        "optimizer = optim.SGD(model.parameters(), lr=0.01, momentum=0.9)\n",
        "\n",
        "# 19 epochs\n",
        "for epoch in range(1, 20):\n",
        "    train(model, device, train_loader, optimizer, epoch)\n",
        "    test(model, device, test_loader)\n",
        "    print('\\n EPOCH: ' + str(epoch) )"
      ],
      "execution_count": 7,
      "outputs": [
        {
          "output_type": "stream",
          "text": [
            "  0%|          | 0/938 [00:00<?, ?it/s]/usr/local/lib/python3.6/dist-packages/ipykernel_launcher.py:66: UserWarning: Implicit dimension choice for log_softmax has been deprecated. Change the call to include dim=X as an argument.\n",
            "loss=0.16312962770462036 batch_id=937: 100%|██████████| 938/938 [00:14<00:00, 64.18it/s]\n",
            "  0%|          | 0/938 [00:00<?, ?it/s]"
          ],
          "name": "stderr"
        },
        {
          "output_type": "stream",
          "text": [
            "\n",
            "Test set: Average loss: 0.0707, Accuracy: 9789/10000 (98%)\n",
            "\n",
            "\n",
            " EPOCH: 1\n"
          ],
          "name": "stdout"
        },
        {
          "output_type": "stream",
          "text": [
            "loss=0.2026643306016922 batch_id=937: 100%|██████████| 938/938 [00:15<00:00, 61.73it/s]\n",
            "  0%|          | 0/938 [00:00<?, ?it/s]"
          ],
          "name": "stderr"
        },
        {
          "output_type": "stream",
          "text": [
            "\n",
            "Test set: Average loss: 0.0622, Accuracy: 9809/10000 (98%)\n",
            "\n",
            "\n",
            " EPOCH: 2\n"
          ],
          "name": "stdout"
        },
        {
          "output_type": "stream",
          "text": [
            "loss=0.006045877933502197 batch_id=937: 100%|██████████| 938/938 [00:14<00:00, 63.40it/s]\n",
            "  0%|          | 0/938 [00:00<?, ?it/s]"
          ],
          "name": "stderr"
        },
        {
          "output_type": "stream",
          "text": [
            "\n",
            "Test set: Average loss: 0.0455, Accuracy: 9865/10000 (99%)\n",
            "\n",
            "\n",
            " EPOCH: 3\n"
          ],
          "name": "stdout"
        },
        {
          "output_type": "stream",
          "text": [
            "loss=0.024620816111564636 batch_id=937: 100%|██████████| 938/938 [00:15<00:00, 61.77it/s]\n",
            "  0%|          | 0/938 [00:00<?, ?it/s]"
          ],
          "name": "stderr"
        },
        {
          "output_type": "stream",
          "text": [
            "\n",
            "Test set: Average loss: 0.0689, Accuracy: 9777/10000 (98%)\n",
            "\n",
            "\n",
            " EPOCH: 4\n"
          ],
          "name": "stdout"
        },
        {
          "output_type": "stream",
          "text": [
            "loss=0.014694198966026306 batch_id=937: 100%|██████████| 938/938 [00:14<00:00, 62.90it/s]\n",
            "  0%|          | 0/938 [00:00<?, ?it/s]"
          ],
          "name": "stderr"
        },
        {
          "output_type": "stream",
          "text": [
            "\n",
            "Test set: Average loss: 0.0345, Accuracy: 9897/10000 (99%)\n",
            "\n",
            "\n",
            " EPOCH: 5\n"
          ],
          "name": "stdout"
        },
        {
          "output_type": "stream",
          "text": [
            "loss=0.0035758912563323975 batch_id=937: 100%|██████████| 938/938 [00:14<00:00, 63.05it/s]\n",
            "  0%|          | 0/938 [00:00<?, ?it/s]"
          ],
          "name": "stderr"
        },
        {
          "output_type": "stream",
          "text": [
            "\n",
            "Test set: Average loss: 0.0467, Accuracy: 9855/10000 (99%)\n",
            "\n",
            "\n",
            " EPOCH: 6\n"
          ],
          "name": "stdout"
        },
        {
          "output_type": "stream",
          "text": [
            "loss=0.0025178194046020508 batch_id=937: 100%|██████████| 938/938 [00:14<00:00, 62.65it/s]\n",
            "  0%|          | 0/938 [00:00<?, ?it/s]"
          ],
          "name": "stderr"
        },
        {
          "output_type": "stream",
          "text": [
            "\n",
            "Test set: Average loss: 0.0344, Accuracy: 9898/10000 (99%)\n",
            "\n",
            "\n",
            " EPOCH: 7\n"
          ],
          "name": "stdout"
        },
        {
          "output_type": "stream",
          "text": [
            "loss=0.0003886222839355469 batch_id=937: 100%|██████████| 938/938 [00:14<00:00, 63.04it/s]\n",
            "  0%|          | 0/938 [00:00<?, ?it/s]"
          ],
          "name": "stderr"
        },
        {
          "output_type": "stream",
          "text": [
            "\n",
            "Test set: Average loss: 0.0249, Accuracy: 9923/10000 (99%)\n",
            "\n",
            "\n",
            " EPOCH: 8\n"
          ],
          "name": "stdout"
        },
        {
          "output_type": "stream",
          "text": [
            "loss=0.0030048787593841553 batch_id=937: 100%|██████████| 938/938 [00:14<00:00, 62.68it/s]\n",
            "  0%|          | 0/938 [00:00<?, ?it/s]"
          ],
          "name": "stderr"
        },
        {
          "output_type": "stream",
          "text": [
            "\n",
            "Test set: Average loss: 0.0336, Accuracy: 9889/10000 (99%)\n",
            "\n",
            "\n",
            " EPOCH: 9\n"
          ],
          "name": "stdout"
        },
        {
          "output_type": "stream",
          "text": [
            "loss=0.00014010071754455566 batch_id=937: 100%|██████████| 938/938 [00:14<00:00, 62.69it/s]\n",
            "  0%|          | 0/938 [00:00<?, ?it/s]"
          ],
          "name": "stderr"
        },
        {
          "output_type": "stream",
          "text": [
            "\n",
            "Test set: Average loss: 0.0362, Accuracy: 9875/10000 (99%)\n",
            "\n",
            "\n",
            " EPOCH: 10\n"
          ],
          "name": "stdout"
        },
        {
          "output_type": "stream",
          "text": [
            "loss=0.0041793882846832275 batch_id=937: 100%|██████████| 938/938 [00:15<00:00, 62.10it/s]\n",
            "  0%|          | 0/938 [00:00<?, ?it/s]"
          ],
          "name": "stderr"
        },
        {
          "output_type": "stream",
          "text": [
            "\n",
            "Test set: Average loss: 0.0620, Accuracy: 9804/10000 (98%)\n",
            "\n",
            "\n",
            " EPOCH: 11\n"
          ],
          "name": "stdout"
        },
        {
          "output_type": "stream",
          "text": [
            "loss=0.0010030865669250488 batch_id=937: 100%|██████████| 938/938 [00:14<00:00, 63.11it/s]\n",
            "  0%|          | 0/938 [00:00<?, ?it/s]"
          ],
          "name": "stderr"
        },
        {
          "output_type": "stream",
          "text": [
            "\n",
            "Test set: Average loss: 0.0449, Accuracy: 9851/10000 (99%)\n",
            "\n",
            "\n",
            " EPOCH: 12\n"
          ],
          "name": "stdout"
        },
        {
          "output_type": "stream",
          "text": [
            "loss=0.009784877300262451 batch_id=937: 100%|██████████| 938/938 [00:15<00:00, 61.56it/s]\n",
            "  0%|          | 0/938 [00:00<?, ?it/s]"
          ],
          "name": "stderr"
        },
        {
          "output_type": "stream",
          "text": [
            "\n",
            "Test set: Average loss: 0.0381, Accuracy: 9864/10000 (99%)\n",
            "\n",
            "\n",
            " EPOCH: 13\n"
          ],
          "name": "stdout"
        },
        {
          "output_type": "stream",
          "text": [
            "loss=0.006172612309455872 batch_id=937: 100%|██████████| 938/938 [00:14<00:00, 63.34it/s]\n",
            "  0%|          | 0/938 [00:00<?, ?it/s]"
          ],
          "name": "stderr"
        },
        {
          "output_type": "stream",
          "text": [
            "\n",
            "Test set: Average loss: 0.0307, Accuracy: 9896/10000 (99%)\n",
            "\n",
            "\n",
            " EPOCH: 14\n"
          ],
          "name": "stdout"
        },
        {
          "output_type": "stream",
          "text": [
            "loss=0.012387454509735107 batch_id=937: 100%|██████████| 938/938 [00:14<00:00, 62.69it/s]\n",
            "  0%|          | 0/938 [00:00<?, ?it/s]"
          ],
          "name": "stderr"
        },
        {
          "output_type": "stream",
          "text": [
            "\n",
            "Test set: Average loss: 0.0408, Accuracy: 9874/10000 (99%)\n",
            "\n",
            "\n",
            " EPOCH: 15\n"
          ],
          "name": "stdout"
        },
        {
          "output_type": "stream",
          "text": [
            "loss=0.00026106834411621094 batch_id=937: 100%|██████████| 938/938 [00:14<00:00, 62.87it/s]\n",
            "  0%|          | 0/938 [00:00<?, ?it/s]"
          ],
          "name": "stderr"
        },
        {
          "output_type": "stream",
          "text": [
            "\n",
            "Test set: Average loss: 0.0251, Accuracy: 9914/10000 (99%)\n",
            "\n",
            "\n",
            " EPOCH: 16\n"
          ],
          "name": "stdout"
        },
        {
          "output_type": "stream",
          "text": [
            "loss=0.00017905235290527344 batch_id=937: 100%|██████████| 938/938 [00:15<00:00, 65.31it/s]\n",
            "  0%|          | 0/938 [00:00<?, ?it/s]"
          ],
          "name": "stderr"
        },
        {
          "output_type": "stream",
          "text": [
            "\n",
            "Test set: Average loss: 0.0338, Accuracy: 9895/10000 (99%)\n",
            "\n",
            "\n",
            " EPOCH: 17\n"
          ],
          "name": "stdout"
        },
        {
          "output_type": "stream",
          "text": [
            "loss=0.01190359890460968 batch_id=937: 100%|██████████| 938/938 [00:15<00:00, 61.16it/s]\n",
            "  0%|          | 0/938 [00:00<?, ?it/s]"
          ],
          "name": "stderr"
        },
        {
          "output_type": "stream",
          "text": [
            "\n",
            "Test set: Average loss: 0.0483, Accuracy: 9841/10000 (98%)\n",
            "\n",
            "\n",
            " EPOCH: 18\n"
          ],
          "name": "stdout"
        },
        {
          "output_type": "stream",
          "text": [
            "loss=0.04760311543941498 batch_id=937: 100%|██████████| 938/938 [00:14<00:00, 62.65it/s]\n"
          ],
          "name": "stderr"
        },
        {
          "output_type": "stream",
          "text": [
            "\n",
            "Test set: Average loss: 0.0370, Accuracy: 9878/10000 (99%)\n",
            "\n",
            "\n",
            " EPOCH: 19\n"
          ],
          "name": "stdout"
        }
      ]
    },
    {
      "cell_type": "code",
      "metadata": {
        "id": "So5uk4EkHW6R",
        "colab_type": "code",
        "colab": {}
      },
      "source": [
        ""
      ],
      "execution_count": 0,
      "outputs": []
    }
  ]
}